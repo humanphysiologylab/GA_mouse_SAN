{
 "cells": [
  {
   "cell_type": "code",
   "execution_count": 1,
   "id": "7fa94845-78ca-4a67-baf2-22f77974b6e6",
   "metadata": {},
   "outputs": [],
   "source": [
    "import numpy as np"
   ]
  },
  {
   "cell_type": "code",
   "execution_count": 2,
   "id": "5b89a11b-ab1e-4412-ad28-37db8ede12a4",
   "metadata": {},
   "outputs": [
    {
     "data": {
      "text/plain": [
       "-0.6931471805599453"
      ]
     },
     "execution_count": 2,
     "metadata": {},
     "output_type": "execute_result"
    }
   ],
   "source": [
    "np.log(0.5)"
   ]
  },
  {
   "cell_type": "code",
   "execution_count": 5,
   "id": "75dd1952-e4bd-40c9-bcd2-056f2804c4de",
   "metadata": {},
   "outputs": [],
   "source": [
    "#ожидаемый блок от 0.5мкМ нифедипина:\n",
    "block = 1 - 0.632\n",
    "#границы по ближайшим экспериментальным точкам:\n",
    "ub, lb = 1 - 0.5, 1 - 0.793"
   ]
  },
  {
   "cell_type": "code",
   "execution_count": 6,
   "id": "baefa53f-9de6-490f-b4fe-557605e047e6",
   "metadata": {},
   "outputs": [
    {
     "data": {
      "text/plain": [
       "(0.20699999999999996, 0.5)"
      ]
     },
     "execution_count": 6,
     "metadata": {},
     "output_type": "execute_result"
    }
   ],
   "source": [
    "lb, ub"
   ]
  },
  {
   "cell_type": "code",
   "execution_count": 7,
   "id": "42d40766-754e-47b5-9de2-30de63160ebc",
   "metadata": {},
   "outputs": [
    {
     "data": {
      "text/plain": [
       "7.44"
      ]
     },
     "execution_count": 7,
     "metadata": {},
     "output_type": "execute_result"
    }
   ],
   "source": [
    "372/50"
   ]
  },
  {
   "cell_type": "code",
   "execution_count": 8,
   "id": "48b1e39b-f8b3-4157-aae6-53a1ddfb132d",
   "metadata": {},
   "outputs": [
    {
     "data": {
      "text/plain": [
       "628"
      ]
     },
     "execution_count": 8,
     "metadata": {},
     "output_type": "execute_result"
    }
   ],
   "source": [
    "1000-372"
   ]
  },
  {
   "cell_type": "code",
   "execution_count": 9,
   "id": "32ee5679-58a1-47a3-8df9-ec90883bf81c",
   "metadata": {},
   "outputs": [
    {
     "data": {
      "text/plain": [
       "84.40860215053763"
      ]
     },
     "execution_count": 9,
     "metadata": {},
     "output_type": "execute_result"
    }
   ],
   "source": [
    "628/7.44"
   ]
  },
  {
   "cell_type": "code",
   "execution_count": null,
   "id": "fba19540-fe06-4488-8789-79b455537420",
   "metadata": {},
   "outputs": [],
   "source": []
  }
 ],
 "metadata": {
  "kernelspec": {
   "display_name": "mpi_scripts_env",
   "language": "python",
   "name": "mpi_scripts_env"
  },
  "language_info": {
   "codemirror_mode": {
    "name": "ipython",
    "version": 3
   },
   "file_extension": ".py",
   "mimetype": "text/x-python",
   "name": "python",
   "nbconvert_exporter": "python",
   "pygments_lexer": "ipython3",
   "version": "3.8.12"
  }
 },
 "nbformat": 4,
 "nbformat_minor": 5
}
